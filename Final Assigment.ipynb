{
 "cells": [
  {
   "cell_type": "code",
   "execution_count": 1,
   "id": "7ff7dafa-1ae1-4982-96ef-53bb74f5e7f4",
   "metadata": {},
   "outputs": [],
   "source": [
    "import pandas as pd\n",
    "import numpy as np"
   ]
  },
  {
   "cell_type": "code",
   "execution_count": 2,
   "id": "4f4ee5bd-1651-499a-99e1-0116d9ddbeb9",
   "metadata": {},
   "outputs": [],
   "source": [
    "from sklearn.model_selection import train_test_split\n",
    "from sklearn.compose import ColumnTransformer\n",
    "from sklearn.impute import SimpleImputer\n",
    "from sklearn.preprocessing import OneHotEncoder\n",
    "from sklearn.preprocessing import MinMaxScaler\n",
    "from sklearn.pipeline import Pipeline,make_pipeline\n",
    "from sklearn.feature_selection import SelectKBest,chi2\n",
    "from sklearn.tree import DecisionTreeClassifier\n",
    "from sklearn.preprocessing import LabelEncoder\n",
    "from sklearn.preprocessing import StandardScaler"
   ]
  },
  {
   "cell_type": "markdown",
   "id": "ac39003e-ec61-4f5a-bf1e-6172d39b8b93",
   "metadata": {},
   "source": [
    "# Smothe"
   ]
  },
  {
   "cell_type": "code",
   "execution_count": 3,
   "id": "384c4caf-b0b9-4056-ba22-a7cc90221587",
   "metadata": {},
   "outputs": [
    {
     "data": {
      "text/html": [
       "<div>\n",
       "<style scoped>\n",
       "    .dataframe tbody tr th:only-of-type {\n",
       "        vertical-align: middle;\n",
       "    }\n",
       "\n",
       "    .dataframe tbody tr th {\n",
       "        vertical-align: top;\n",
       "    }\n",
       "\n",
       "    .dataframe thead th {\n",
       "        text-align: right;\n",
       "    }\n",
       "</style>\n",
       "<table border=\"1\" class=\"dataframe\">\n",
       "  <thead>\n",
       "    <tr style=\"text-align: right;\">\n",
       "      <th></th>\n",
       "      <th>Date/Time</th>\n",
       "      <th>Temp_C</th>\n",
       "      <th>Dew Point Temp_C</th>\n",
       "      <th>Rel Hum_%</th>\n",
       "      <th>Wind Speed_km/h</th>\n",
       "      <th>Visibility_km</th>\n",
       "      <th>Press_kPa</th>\n",
       "      <th>Weather</th>\n",
       "    </tr>\n",
       "  </thead>\n",
       "  <tbody>\n",
       "    <tr>\n",
       "      <th>0</th>\n",
       "      <td>1/1/2012 0:00</td>\n",
       "      <td>-1.8</td>\n",
       "      <td>-3.9</td>\n",
       "      <td>86</td>\n",
       "      <td>4</td>\n",
       "      <td>8.0</td>\n",
       "      <td>101.24</td>\n",
       "      <td>Fog</td>\n",
       "    </tr>\n",
       "    <tr>\n",
       "      <th>1</th>\n",
       "      <td>1/1/2012 1:00</td>\n",
       "      <td>-1.8</td>\n",
       "      <td>-3.7</td>\n",
       "      <td>87</td>\n",
       "      <td>4</td>\n",
       "      <td>8.0</td>\n",
       "      <td>101.24</td>\n",
       "      <td>Fog</td>\n",
       "    </tr>\n",
       "    <tr>\n",
       "      <th>2</th>\n",
       "      <td>1/1/2012 2:00</td>\n",
       "      <td>-1.8</td>\n",
       "      <td>-3.4</td>\n",
       "      <td>89</td>\n",
       "      <td>7</td>\n",
       "      <td>4.0</td>\n",
       "      <td>101.26</td>\n",
       "      <td>Freezing Drizzle,Fog</td>\n",
       "    </tr>\n",
       "    <tr>\n",
       "      <th>3</th>\n",
       "      <td>1/1/2012 3:00</td>\n",
       "      <td>-1.5</td>\n",
       "      <td>-3.2</td>\n",
       "      <td>88</td>\n",
       "      <td>6</td>\n",
       "      <td>4.0</td>\n",
       "      <td>101.27</td>\n",
       "      <td>Freezing Drizzle,Fog</td>\n",
       "    </tr>\n",
       "    <tr>\n",
       "      <th>4</th>\n",
       "      <td>1/1/2012 4:00</td>\n",
       "      <td>-1.5</td>\n",
       "      <td>-3.3</td>\n",
       "      <td>88</td>\n",
       "      <td>7</td>\n",
       "      <td>4.8</td>\n",
       "      <td>101.23</td>\n",
       "      <td>Fog</td>\n",
       "    </tr>\n",
       "  </tbody>\n",
       "</table>\n",
       "</div>"
      ],
      "text/plain": [
       "       Date/Time  Temp_C  Dew Point Temp_C  Rel Hum_%  Wind Speed_km/h  \\\n",
       "0  1/1/2012 0:00    -1.8              -3.9         86                4   \n",
       "1  1/1/2012 1:00    -1.8              -3.7         87                4   \n",
       "2  1/1/2012 2:00    -1.8              -3.4         89                7   \n",
       "3  1/1/2012 3:00    -1.5              -3.2         88                6   \n",
       "4  1/1/2012 4:00    -1.5              -3.3         88                7   \n",
       "\n",
       "   Visibility_km  Press_kPa               Weather  \n",
       "0            8.0     101.24                   Fog  \n",
       "1            8.0     101.24                   Fog  \n",
       "2            4.0     101.26  Freezing Drizzle,Fog  \n",
       "3            4.0     101.27  Freezing Drizzle,Fog  \n",
       "4            4.8     101.23                   Fog  "
      ]
     },
     "execution_count": 3,
     "metadata": {},
     "output_type": "execute_result"
    }
   ],
   "source": [
    "df = pd.read_csv(\"Weather Data.csv\")\n",
    "df.head()"
   ]
  },
  {
   "cell_type": "code",
   "execution_count": 4,
   "id": "1324423e-51c4-4083-8fe1-650bfc1aa795",
   "metadata": {},
   "outputs": [],
   "source": [
    "df = df.drop(columns=['Date/Time'],axis=1)\n"
   ]
  },
  {
   "cell_type": "code",
   "execution_count": 5,
   "id": "1a05d033-1354-4e78-9835-66f6961c2aa9",
   "metadata": {},
   "outputs": [],
   "source": [
    "df.Weather = df.Weather.apply(lambda x: 'Cloudy' if 'Cloudy' in x else x)"
   ]
  },
  {
   "cell_type": "code",
   "execution_count": 6,
   "id": "0fa65b28-91b7-4725-9567-ab9ed185f665",
   "metadata": {},
   "outputs": [],
   "source": [
    "df.Weather = df.Weather.apply(lambda x: 'Clear' if 'Clear' in x else x)\n"
   ]
  },
  {
   "cell_type": "code",
   "execution_count": 7,
   "id": "877f66f2-34f8-4bee-9ef3-e5fdf15d5957",
   "metadata": {},
   "outputs": [],
   "source": [
    "df.Weather = df.Weather.apply(lambda x: 'Snow' if 'Snow' in x else x)\n"
   ]
  },
  {
   "cell_type": "code",
   "execution_count": 8,
   "id": "62ea41f8-27eb-4214-b355-977cb719b51c",
   "metadata": {},
   "outputs": [],
   "source": [
    "df.Weather = df.Weather.apply(lambda x: 'Rain' if 'Rain' in x else x)"
   ]
  },
  {
   "cell_type": "code",
   "execution_count": 9,
   "id": "6269959f-da9e-4514-848c-d8c20e4e7752",
   "metadata": {},
   "outputs": [],
   "source": [
    "df.Weather = df.Weather.apply(lambda x: 'Fog' if 'Fog' in x else x)\n"
   ]
  },
  {
   "cell_type": "code",
   "execution_count": 10,
   "id": "8af5330e-4e80-4dd0-8305-41d3e20dde87",
   "metadata": {},
   "outputs": [],
   "source": [
    "df.Weather = df.Weather.apply(lambda x: 'other' if x in ['Drizzle','Haze','Freezing Drizzle','Freezing Drizzle,Haze','Thunderstorms']  else x)\n"
   ]
  },
  {
   "cell_type": "code",
   "execution_count": 11,
   "id": "8b2f865d-cca4-4242-8eb5-8cd80a2bf7f3",
   "metadata": {},
   "outputs": [],
   "source": [
    "le = LabelEncoder()\n",
    "df['Weather'] = le.fit_transform(df['Weather'])"
   ]
  },
  {
   "cell_type": "code",
   "execution_count": 12,
   "id": "79bc364f-75ee-4db0-996f-0a3e106b3ce8",
   "metadata": {},
   "outputs": [],
   "source": [
    "X = df.drop('Weather', axis=1)\n",
    "y = df['Weather']\n"
   ]
  },
  {
   "cell_type": "code",
   "execution_count": 87,
   "id": "de570f18-63ac-49d6-991e-935b0de12c2f",
   "metadata": {},
   "outputs": [],
   "source": [
    "from imblearn.over_sampling import SMOTE\n",
    "smote = SMOTE(random_state=42)\n",
    "X_res, y_res = smote.fit_resample(X, y)"
   ]
  },
  {
   "cell_type": "code",
   "execution_count": 88,
   "id": "a907d1c5-05eb-4711-b8db-7e5d556a4563",
   "metadata": {},
   "outputs": [],
   "source": [
    "X_train, X_test, y_train, y_test = train_test_split(X_res, y_res, test_size=0.2, random_state=42)"
   ]
  },
  {
   "cell_type": "code",
   "execution_count": 95,
   "id": "d926b623-6051-4055-8eb1-705f131945f7",
   "metadata": {},
   "outputs": [
    {
     "name": "stdout",
     "output_type": "stream",
     "text": [
      "Max Depth = 1\n",
      "Train Accuracy: 0.3268587105624143\n",
      "Test Accuracy:  0.3353083168751371\n",
      "Max Depth = 2\n",
      "Train Accuracy: 0.42622770919067215\n",
      "Test Accuracy:  0.434715821812596\n",
      "Max Depth = 3\n",
      "Train Accuracy: 0.5284499314128944\n",
      "Test Accuracy:  0.5264428351985956\n",
      "Max Depth = 4\n",
      "Train Accuracy: 0.6131138545953361\n",
      "Test Accuracy:  0.6096115865701119\n",
      "Max Depth = 5\n",
      "Train Accuracy: 0.6610150891632373\n",
      "Test Accuracy:  0.65284178187404\n",
      "Max Depth = 6\n",
      "Train Accuracy: 0.6902606310013717\n",
      "Test Accuracy:  0.6761026991441738\n",
      "Max Depth = 7\n",
      "Train Accuracy: 0.7186831275720165\n",
      "Test Accuracy:  0.6925608953258723\n",
      "Max Depth = 8\n",
      "Train Accuracy: 0.7536899862825789\n",
      "Test Accuracy:  0.728110599078341\n",
      "Max Depth = 9\n",
      "Train Accuracy: 0.7918244170096022\n",
      "Test Accuracy:  0.760807548825982\n",
      "Max Depth = None\n",
      "Train Accuracy: 1.0\n",
      "Test Accuracy:  0.8312486284836516\n"
     ]
    }
   ],
   "source": [
    "depths = [1,2,3,4,5,6,7,8,9,None]\n",
    "\n",
    "for depth in depths:\n",
    "    model = DecisionTreeClassifier(max_depth=depth, random_state=42)\n",
    "    model.fit(X_train, y_train)\n",
    "    train_acc = accuracy_score(y_train, model.predict(X_train))\n",
    "    test_acc = accuracy_score(y_test, model.predict(X_test))\n",
    "    print(f\"Max Depth = {depth}\")\n",
    "    print(f\"Train Accuracy: {train_acc:}\")\n",
    "    print(f\"Test Accuracy:  {test_acc:}\")"
   ]
  },
  {
   "cell_type": "code",
   "execution_count": 98,
   "id": "d8f6b324-dade-49dd-b087-356084935c78",
   "metadata": {},
   "outputs": [],
   "source": [
    "model = DecisionTreeClassifier(max_depth=9, random_state=42)\n",
    "model.fit(X_res, y_res)\n",
    "\n",
    "y_pred = model.predict(X_test)\n",
    "\n",
    "accuracy = accuracy_score(y_test, y_pred)"
   ]
  },
  {
   "cell_type": "code",
   "execution_count": 101,
   "id": "1a9bc3b6-c3e8-4ba4-a249-25ba93f833e3",
   "metadata": {},
   "outputs": [
    {
     "name": "stdout",
     "output_type": "stream",
     "text": [
      "Accuracy: 0.79745\n",
      "Precision: 0.79997\n",
      "Recall: 0.79745\n",
      "F1 Score: 0.79763\n"
     ]
    }
   ],
   "source": [
    "from sklearn.metrics import accuracy_score, precision_score, recall_score, f1_score\n",
    "accuracy = accuracy_score(y_test, y_pred)\n",
    "precision = precision_score(y_test, y_pred, average='weighted')\n",
    "recall = recall_score(y_test, y_pred, average='weighted')\n",
    "f1 = f1_score(y_test, y_pred, average='weighted')\n",
    "\n",
    "\n",
    "print(\"Accuracy:\", round(accuracy, 5))\n",
    "print(\"Precision:\", round(precision, 5))\n",
    "print(\"Recall:\", round(recall, 5))\n",
    "print(\"F1 Score:\", round(f1,  5))"
   ]
  },
  {
   "cell_type": "code",
   "execution_count": null,
   "id": "b1a8ceed-0953-40c5-86c7-c916e5709ff7",
   "metadata": {},
   "outputs": [],
   "source": []
  }
 ],
 "metadata": {
  "kernelspec": {
   "display_name": "Python 3 (ipykernel)",
   "language": "python",
   "name": "python3"
  },
  "language_info": {
   "codemirror_mode": {
    "name": "ipython",
    "version": 3
   },
   "file_extension": ".py",
   "mimetype": "text/x-python",
   "name": "python",
   "nbconvert_exporter": "python",
   "pygments_lexer": "ipython3",
   "version": "3.12.7"
  }
 },
 "nbformat": 4,
 "nbformat_minor": 5
}
